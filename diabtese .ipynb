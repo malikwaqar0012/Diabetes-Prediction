{
 "cells": [
  {
   "cell_type": "code",
   "execution_count": 13,
   "metadata": {},
   "outputs": [],
   "source": [
    "import pandas as pd\n",
    "import matplotlib.pyplot as plt \n",
    "import seaborn as sns"
   ]
  },
  {
   "cell_type": "code",
   "execution_count": 14,
   "metadata": {},
   "outputs": [],
   "source": [
    "df=pd.read_csv('diabetes.csv')"
   ]
  },
  {
   "cell_type": "code",
   "execution_count": 15,
   "metadata": {},
   "outputs": [
    {
     "data": {
      "text/html": [
       "<div>\n",
       "<style scoped>\n",
       "    .dataframe tbody tr th:only-of-type {\n",
       "        vertical-align: middle;\n",
       "    }\n",
       "\n",
       "    .dataframe tbody tr th {\n",
       "        vertical-align: top;\n",
       "    }\n",
       "\n",
       "    .dataframe thead th {\n",
       "        text-align: right;\n",
       "    }\n",
       "</style>\n",
       "<table border=\"1\" class=\"dataframe\">\n",
       "  <thead>\n",
       "    <tr style=\"text-align: right;\">\n",
       "      <th></th>\n",
       "      <th>Pregnancies</th>\n",
       "      <th>Glucose</th>\n",
       "      <th>BloodPressure</th>\n",
       "      <th>SkinThickness</th>\n",
       "      <th>Insulin</th>\n",
       "      <th>BMI</th>\n",
       "      <th>DiabetesPedigreeFunction</th>\n",
       "      <th>Age</th>\n",
       "      <th>Outcome</th>\n",
       "    </tr>\n",
       "  </thead>\n",
       "  <tbody>\n",
       "    <tr>\n",
       "      <td>0</td>\n",
       "      <td>2</td>\n",
       "      <td>138</td>\n",
       "      <td>62</td>\n",
       "      <td>35</td>\n",
       "      <td>0</td>\n",
       "      <td>33.6</td>\n",
       "      <td>0.127</td>\n",
       "      <td>47</td>\n",
       "      <td>1</td>\n",
       "    </tr>\n",
       "    <tr>\n",
       "      <td>1</td>\n",
       "      <td>0</td>\n",
       "      <td>84</td>\n",
       "      <td>82</td>\n",
       "      <td>31</td>\n",
       "      <td>125</td>\n",
       "      <td>38.2</td>\n",
       "      <td>0.233</td>\n",
       "      <td>23</td>\n",
       "      <td>0</td>\n",
       "    </tr>\n",
       "    <tr>\n",
       "      <td>2</td>\n",
       "      <td>0</td>\n",
       "      <td>145</td>\n",
       "      <td>0</td>\n",
       "      <td>0</td>\n",
       "      <td>0</td>\n",
       "      <td>44.2</td>\n",
       "      <td>0.630</td>\n",
       "      <td>31</td>\n",
       "      <td>1</td>\n",
       "    </tr>\n",
       "    <tr>\n",
       "      <td>3</td>\n",
       "      <td>0</td>\n",
       "      <td>135</td>\n",
       "      <td>68</td>\n",
       "      <td>42</td>\n",
       "      <td>250</td>\n",
       "      <td>42.3</td>\n",
       "      <td>0.365</td>\n",
       "      <td>24</td>\n",
       "      <td>1</td>\n",
       "    </tr>\n",
       "    <tr>\n",
       "      <td>4</td>\n",
       "      <td>1</td>\n",
       "      <td>139</td>\n",
       "      <td>62</td>\n",
       "      <td>41</td>\n",
       "      <td>480</td>\n",
       "      <td>40.7</td>\n",
       "      <td>0.536</td>\n",
       "      <td>21</td>\n",
       "      <td>0</td>\n",
       "    </tr>\n",
       "    <tr>\n",
       "      <td>...</td>\n",
       "      <td>...</td>\n",
       "      <td>...</td>\n",
       "      <td>...</td>\n",
       "      <td>...</td>\n",
       "      <td>...</td>\n",
       "      <td>...</td>\n",
       "      <td>...</td>\n",
       "      <td>...</td>\n",
       "      <td>...</td>\n",
       "    </tr>\n",
       "    <tr>\n",
       "      <td>1995</td>\n",
       "      <td>2</td>\n",
       "      <td>75</td>\n",
       "      <td>64</td>\n",
       "      <td>24</td>\n",
       "      <td>55</td>\n",
       "      <td>29.7</td>\n",
       "      <td>0.370</td>\n",
       "      <td>33</td>\n",
       "      <td>0</td>\n",
       "    </tr>\n",
       "    <tr>\n",
       "      <td>1996</td>\n",
       "      <td>8</td>\n",
       "      <td>179</td>\n",
       "      <td>72</td>\n",
       "      <td>42</td>\n",
       "      <td>130</td>\n",
       "      <td>32.7</td>\n",
       "      <td>0.719</td>\n",
       "      <td>36</td>\n",
       "      <td>1</td>\n",
       "    </tr>\n",
       "    <tr>\n",
       "      <td>1997</td>\n",
       "      <td>6</td>\n",
       "      <td>85</td>\n",
       "      <td>78</td>\n",
       "      <td>0</td>\n",
       "      <td>0</td>\n",
       "      <td>31.2</td>\n",
       "      <td>0.382</td>\n",
       "      <td>42</td>\n",
       "      <td>0</td>\n",
       "    </tr>\n",
       "    <tr>\n",
       "      <td>1998</td>\n",
       "      <td>0</td>\n",
       "      <td>129</td>\n",
       "      <td>110</td>\n",
       "      <td>46</td>\n",
       "      <td>130</td>\n",
       "      <td>67.1</td>\n",
       "      <td>0.319</td>\n",
       "      <td>26</td>\n",
       "      <td>1</td>\n",
       "    </tr>\n",
       "    <tr>\n",
       "      <td>1999</td>\n",
       "      <td>2</td>\n",
       "      <td>81</td>\n",
       "      <td>72</td>\n",
       "      <td>15</td>\n",
       "      <td>76</td>\n",
       "      <td>30.1</td>\n",
       "      <td>0.547</td>\n",
       "      <td>25</td>\n",
       "      <td>0</td>\n",
       "    </tr>\n",
       "  </tbody>\n",
       "</table>\n",
       "<p>2000 rows × 9 columns</p>\n",
       "</div>"
      ],
      "text/plain": [
       "      Pregnancies  Glucose  BloodPressure  SkinThickness  Insulin   BMI  \\\n",
       "0               2      138             62             35        0  33.6   \n",
       "1               0       84             82             31      125  38.2   \n",
       "2               0      145              0              0        0  44.2   \n",
       "3               0      135             68             42      250  42.3   \n",
       "4               1      139             62             41      480  40.7   \n",
       "...           ...      ...            ...            ...      ...   ...   \n",
       "1995            2       75             64             24       55  29.7   \n",
       "1996            8      179             72             42      130  32.7   \n",
       "1997            6       85             78              0        0  31.2   \n",
       "1998            0      129            110             46      130  67.1   \n",
       "1999            2       81             72             15       76  30.1   \n",
       "\n",
       "      DiabetesPedigreeFunction  Age  Outcome  \n",
       "0                        0.127   47        1  \n",
       "1                        0.233   23        0  \n",
       "2                        0.630   31        1  \n",
       "3                        0.365   24        1  \n",
       "4                        0.536   21        0  \n",
       "...                        ...  ...      ...  \n",
       "1995                     0.370   33        0  \n",
       "1996                     0.719   36        1  \n",
       "1997                     0.382   42        0  \n",
       "1998                     0.319   26        1  \n",
       "1999                     0.547   25        0  \n",
       "\n",
       "[2000 rows x 9 columns]"
      ]
     },
     "execution_count": 15,
     "metadata": {},
     "output_type": "execute_result"
    }
   ],
   "source": [
    "df"
   ]
  },
  {
   "cell_type": "code",
   "execution_count": 45,
   "metadata": {},
   "outputs": [],
   "source": [
    "newdf=df.groupby(['Pregnancies','Outcome']).groups"
   ]
  },
  {
   "cell_type": "code",
   "execution_count": 46,
   "metadata": {},
   "outputs": [
    {
     "data": {
      "text/plain": [
       "{(0,\n",
       "  0): Int64Index([   1,    5,   29,   57,   58,   59,   83,  102,  136,  137,\n",
       "             ...\n",
       "             1878, 1879, 1880, 1904, 1923, 1957, 1958, 1959, 1966, 1983],\n",
       "            dtype='int64', length=201),\n",
       " (0,\n",
       "  1): Int64Index([   2,    3,   24,   45,   66,   78,  109,  120,  124,  129,  164,\n",
       "              177,  213,  220,  237,  266,  280,  291,  300,  308,  322,  397,\n",
       "              414,  435,  440,  445,  448,  484,  485,  506,  561,  569,  580,\n",
       "              595,  619,  647,  681,  753,  757,  770,  778,  792,  867,  884,\n",
       "              905,  910,  915,  918,  954,  955,  976, 1018, 1026, 1037, 1052,\n",
       "             1076, 1104, 1138, 1210, 1214, 1227, 1235, 1249, 1267, 1278, 1282,\n",
       "             1287, 1322, 1335, 1371, 1378, 1395, 1424, 1438, 1449, 1473, 1494,\n",
       "             1499, 1504, 1507, 1543, 1544, 1559, 1582, 1650, 1667, 1707, 1735,\n",
       "             1769, 1841, 1845, 1866, 1887, 1899, 1930, 1941, 1945, 1950, 1985,\n",
       "             1998],\n",
       "            dtype='int64'),\n",
       " (1,\n",
       "  0): Int64Index([   4,   25,   46,   50,   51,   55,   68,   74,   75,   89,\n",
       "             ...\n",
       "             1922, 1924, 1926, 1927, 1933, 1948, 1971, 1974, 1978, 1994],\n",
       "            dtype='int64', length=277),\n",
       " (1,\n",
       "  1): Int64Index([  99,  100,  125,  128,  187,  255,  287,  293,  326,  332,  356,\n",
       "              359,  369,  409,  427,  429,  598,  606,  646,  661,  689,  702,\n",
       "              722,  739,  746,  755,  766,  796,  802,  826,  829,  839,  879,\n",
       "              897,  899, 1055, 1063, 1103, 1118, 1146, 1159, 1179, 1196, 1203,\n",
       "             1212, 1223, 1253, 1257, 1258, 1283, 1286, 1345, 1413, 1445, 1451,\n",
       "             1468, 1486, 1488, 1609, 1612, 1622, 1662, 1680, 1682, 1686, 1694,\n",
       "             1734, 1749, 1777, 1790, 1810, 1827, 1834, 1843, 1854, 1920, 1921,\n",
       "             1946, 1949],\n",
       "            dtype='int64'),\n",
       " (2,\n",
       "  0): Int64Index([   8,    9,   15,   18,   26,   31,   47,   60,   63,   67,\n",
       "             ...\n",
       "             1956, 1963, 1968, 1970, 1977, 1979, 1984, 1993, 1995, 1999],\n",
       "            dtype='int64', length=236),\n",
       " (2,\n",
       "  1): Int64Index([   0,   38,   70,  221,  269,  284,  292,  296,  301,  309,  312,\n",
       "              328,  451,  476,  577,  579,  655,  709,  732,  771,  779,  782,\n",
       "              798,  921,  946, 1034, 1036, 1112, 1166, 1189, 1228, 1236, 1239,\n",
       "             1255, 1379, 1427, 1442, 1450, 1454, 1510, 1535, 1562, 1585, 1743,\n",
       "             1797, 1820, 1859, 1891],\n",
       "            dtype='int64'),\n",
       " (3,\n",
       "  0): Int64Index([  12,   19,   22,   32,   40,   80,  108,  126,  140,  166,\n",
       "             ...\n",
       "             1802, 1829, 1840, 1861, 1901, 1929, 1947, 1961, 1987, 1990],\n",
       "            dtype='int64', length=125),\n",
       " (3,\n",
       "  1): Int64Index([  33,  110,  132,  197,  227,  242,  261,  317,  321,  370,  399,\n",
       "              415,  419,  480,  515,  539,  541,  588,  592,  611,  659,  678,\n",
       "              696,  716,  730,  748,  787,  791,  840,  869,  885,  889,  950,\n",
       "              985,  996,  998, 1045, 1049, 1068, 1116, 1135, 1153, 1173, 1187,\n",
       "             1205, 1244, 1248, 1268, 1290, 1355, 1385, 1400, 1419, 1458, 1474,\n",
       "             1478, 1539, 1623, 1652, 1668, 1672, 1699, 1747, 1766, 1784, 1804,\n",
       "             1818, 1836, 1931, 1953],\n",
       "            dtype='int64'),\n",
       " (4,\n",
       "  0): Int64Index([   6,   10,   35,   69,   73,   91,  107,  113,  118,  119,\n",
       "             ...\n",
       "             1912, 1928, 1934, 1939, 1940, 1965, 1972, 1981, 1988, 1989],\n",
       "            dtype='int64', length=124),\n",
       " (4,\n",
       "  1): Int64Index([  11,   39,   93,  115,  130,  198,  199,  230,  235,  264,  363,\n",
       "              378,  394,  400,  406,  417,  425,  444,  493,  535,  604,  666,\n",
       "              683,  750,  833,  848,  864,  870,  876,  887,  895,  914,  963,\n",
       "              992, 1061, 1123, 1140, 1207, 1273, 1288, 1356, 1357, 1388, 1393,\n",
       "             1422, 1459, 1465, 1476, 1484, 1503, 1552, 1575, 1616, 1631, 1647,\n",
       "             1653, 1659, 1670, 1678, 1692, 1754, 1771, 1838, 1860, 1914, 1936,\n",
       "             1951],\n",
       "            dtype='int64'),\n",
       " (5,\n",
       "  0): Int64Index([  14,   52,   62,   65,   71,   77,  117,  123,  139,  141,  148,\n",
       "              178,  183,  205,  265,  278,  286,  289,  302,  343,  361,  362,\n",
       "              365,  437,  457,  463,  496,  628,  636,  652,  684,  711,  723,\n",
       "              765,  772,  813,  831,  832,  835,  907,  927,  933,  966, 1085,\n",
       "             1093, 1109, 1141, 1168, 1180, 1222, 1229, 1275, 1281, 1297, 1299,\n",
       "             1306, 1336, 1341, 1363, 1423, 1436, 1444, 1447, 1496, 1516, 1522,\n",
       "             1555, 1578, 1596, 1614, 1615, 1618, 1716, 1724, 1740, 1772, 1799,\n",
       "             1811, 1853, 1873, 1883, 1886, 1892, 1898, 1938, 1944, 1960, 1962,\n",
       "             1969],\n",
       "            dtype='int64'),\n",
       " (5,\n",
       "  1): Int64Index([  84,  116,  179,  189,  195,  207,  216,  218,  219,  303,  337,\n",
       "              349,  360,  386,  388,  391,  402,  404,  546,  719,  773,  807,\n",
       "              819,  830,  856,  858,  861,  872,  874, 1003, 1176, 1230, 1274,\n",
       "             1337, 1347, 1353, 1365, 1374, 1376, 1377, 1461, 1463, 1602, 1613,\n",
       "             1639, 1641, 1644, 1655, 1657, 1807, 1905, 1937],\n",
       "            dtype='int64'),\n",
       " (6,\n",
       "  0): Int64Index([  13,   17,   95,   98,  121,  176,  180,  204,  217,  295,  310,\n",
       "              329,  401,  410,  439,  469,  495,  499,  519,  522,  533,  552,\n",
       "              563,  567,  576,  581,  587,  594,  601,  613,  616,  622,  668,\n",
       "              670,  705,  780,  799,  871,  880,  909,  939,  965,  969,  990,\n",
       "             1009, 1020, 1024, 1033, 1038, 1044, 1051, 1058, 1070, 1073, 1079,\n",
       "             1125, 1127, 1162, 1237, 1256, 1279, 1334, 1338, 1362, 1375, 1453,\n",
       "             1460, 1469, 1498, 1528, 1554, 1558, 1577, 1581, 1654, 1663, 1689,\n",
       "             1701, 1704, 1710, 1756, 1758, 1793, 1916, 1919, 1942, 1997],\n",
       "            dtype='int64'),\n",
       " (6,\n",
       "  1): Int64Index([  20,  165,  170,  171,  231,  243,  319,  366,  502,  560,  642,\n",
       "              664,  675,  701,  749,  759,  789,  836,  972, 1017, 1099, 1121,\n",
       "             1132, 1158, 1206, 1216, 1246, 1323, 1328, 1329, 1389, 1401, 1566,\n",
       "             1589, 1619, 1730, 1752, 1763, 1789, 1837, 1847, 1986, 1991, 1992],\n",
       "            dtype='int64'),\n",
       " (7,\n",
       "  0): Int64Index([  21,   41,   42,   44,   49,   54,   76,   82,   92,  161,  212,\n",
       "              222,  223,  282,  285,  473,  477,  503,  517,  555,  756,  943,\n",
       "              947,  973, 1012, 1213, 1319, 1370, 1380, 1381, 1440, 1443, 1532,\n",
       "             1536, 1844, 1862, 1863, 1865, 1870, 1875, 1897, 1903, 1913, 1982],\n",
       "            dtype='int64'),\n",
       " (7,\n",
       "  1): Int64Index([  16,   48,   56,   64,  114,  155,  185,  192,  209,  236,  276,\n",
       "              283,  314,  339,  498,  603,  612,  630,  638,  693,  695,  715,\n",
       "              784,  809,  968, 1060, 1069, 1087, 1095, 1150, 1152, 1172, 1241,\n",
       "             1272, 1313, 1343, 1350, 1367, 1394, 1434, 1441, 1557, 1580, 1592,\n",
       "             1691, 1700, 1718, 1726, 1781, 1783, 1803, 1869, 1877, 1885, 1935,\n",
       "             1976],\n",
       "            dtype='int64'),\n",
       " (8,\n",
       "  0): Int64Index([   7,   27,  133,  194,  299,  330,  344,  345,  462,  478,  489,\n",
       "              509,  557,  583,  674,  690,  737,  769,  800,  814,  815,  932,\n",
       "              948,  959,  979, 1014, 1040, 1131, 1147, 1194, 1226, 1291, 1352,\n",
       "             1521, 1537, 1548, 1571, 1597, 1598, 1762, 1778, 1825, 1954],\n",
       "            dtype='int64'),\n",
       " (8,\n",
       "  1): Int64Index([  53,   61,  111,  154,  175,  186,  188,  206,  387,  408,  424,\n",
       "              443,  468,  540,  545,  584,  586,  662,  731,  754,  857,  878,\n",
       "              894,  913,  938,  997, 1002, 1041, 1043, 1119, 1188, 1211, 1269,\n",
       "             1312, 1333, 1344, 1346, 1364, 1467, 1483, 1502, 1527, 1640, 1661,\n",
       "             1677, 1750, 1819, 1842, 1874, 1882, 1932, 1975, 1996],\n",
       "            dtype='int64'),\n",
       " (9,\n",
       "  0): Int64Index([  30,  146,  191,  248,  250,  403,  459,  460,  512,  669,  762,\n",
       "              873,  929,  930,  982, 1126, 1219, 1304, 1349, 1406, 1408, 1462,\n",
       "             1518, 1519, 1656, 1757, 1850, 1967],\n",
       "            dtype='int64'),\n",
       " (9,\n",
       "  1): Int64Index([  37,   43,  131,  152,  214,  238,  245,  338,  355,  516,  523,\n",
       "              618,  663,  676,  708,  743,  761,  808,  825,  986, 1075, 1120,\n",
       "             1133, 1165, 1200, 1218, 1289, 1310, 1372, 1396, 1403, 1608, 1706,\n",
       "             1751, 1764, 1796, 1831, 1849, 1858, 1864, 1952, 1973],\n",
       "            dtype='int64'),\n",
       " (10,\n",
       "  0): Int64Index([  23,   34,  246,  281,  327,  464,  505,  578,  634,  660,  672,\n",
       "              717,  763,  797,  934,  975, 1035, 1091, 1117, 1129, 1174, 1220,\n",
       "             1254, 1404, 1439, 1523, 1722, 1748, 1760, 1805, 1851, 1855],\n",
       "            dtype='int64'),\n",
       " (10,\n",
       "  1): Int64Index([ 143,  270,  306,  458,  542,  667,  706,  712,  776,  928,  999,\n",
       "             1124, 1163, 1169, 1233, 1301, 1428, 1517, 1755, 1794, 1800, 1964],\n",
       "            dtype='int64'),\n",
       " (11,\n",
       "  0): Int64Index([36, 558, 559, 658, 1015, 1016, 1115, 1746, 1857], dtype='int64'),\n",
       " (11,\n",
       "  1): Int64Index([ 193,  259,  590,  614,  648,  740, 1047, 1071, 1105, 1197, 1351,\n",
       "             1417, 1702, 1736, 1828],\n",
       "            dtype='int64'),\n",
       " (12,\n",
       "  0): Int64Index([333, 358, 436, 582, 745, 803, 828, 906, 1039, 1202, 1495, 1611,\n",
       "             1833],\n",
       "            dtype='int64'),\n",
       " (12,\n",
       "  1): Int64Index([28, 215, 254, 375, 510, 845, 980, 1373, 1412, 1628], dtype='int64'),\n",
       " (13,\n",
       "  0): Int64Index([86, 274, 518, 744, 1201, 1432, 1832, 1907], dtype='int64'),\n",
       " (13,\n",
       "  1): Int64Index([72, 323, 357, 635, 691, 793, 827, 1092, 1148, 1250, 1610, 1723,\n",
       "             1779, 1893],\n",
       "            dtype='int64'),\n",
       " (14, 1): Int64Index([298, 455, 768, 925, 1225, 1456, 1514], dtype='int64'),\n",
       " (15, 1): Int64Index([88, 1909], dtype='int64'),\n",
       " (17, 1): Int64Index([159, 1317, 1980], dtype='int64')}"
      ]
     },
     "execution_count": 46,
     "metadata": {},
     "output_type": "execute_result"
    }
   ],
   "source": [
    "newdf"
   ]
  },
  {
   "cell_type": "code",
   "execution_count": 16,
   "metadata": {},
   "outputs": [
    {
     "data": {
      "text/plain": [
       "Pregnancies                 0\n",
       "Glucose                     0\n",
       "BloodPressure               0\n",
       "SkinThickness               0\n",
       "Insulin                     0\n",
       "BMI                         0\n",
       "DiabetesPedigreeFunction    0\n",
       "Age                         0\n",
       "Outcome                     0\n",
       "dtype: int64"
      ]
     },
     "execution_count": 16,
     "metadata": {},
     "output_type": "execute_result"
    }
   ],
   "source": [
    "df.isnull().sum()"
   ]
  },
  {
   "cell_type": "code",
   "execution_count": 56,
   "metadata": {},
   "outputs": [],
   "source": [
    "x=df['Pregnancies']"
   ]
  },
  {
   "cell_type": "code",
   "execution_count": 18,
   "metadata": {},
   "outputs": [],
   "source": [
    "x;"
   ]
  },
  {
   "cell_type": "code",
   "execution_count": 19,
   "metadata": {},
   "outputs": [],
   "source": [
    "y=df['Age']"
   ]
  },
  {
   "cell_type": "code",
   "execution_count": 43,
   "metadata": {},
   "outputs": [
    {
     "data": {
      "text/plain": [
       "<matplotlib.axes._subplots.AxesSubplot at 0x1ce39f32c48>"
      ]
     },
     "execution_count": 43,
     "metadata": {},
     "output_type": "execute_result"
    },
    {
     "data": {
      "image/png": "[encoded data removed]",
      "text/plain": [
       "<Figure size 432x288 with 1 Axes>"
      ]
     },
     "metadata": {},
     "output_type": "display_data"
    }
   ],
   "source": [
    "sns.boxplot( x=df[\"Pregnancies\"], y=df[\"Age\"] )\n"
   ]
  },
  {
   "cell_type": "code",
   "execution_count": 47,
   "metadata": {},
   "outputs": [
    {
     "ename": "TypeError",
     "evalue": "unsupported operand type(s) for /: 'dict' and 'int'",
     "output_type": "error",
     "traceback": [
      "\u001b[1;31m---------------------------------------------------------------------------\u001b[0m",
      "\u001b[1;31mTypeError\u001b[0m                                 Traceback (most recent call last)",
      "\u001b[1;32m<ipython-input-47-61dbd10cd2ca>\u001b[0m in \u001b[0;36m<module>\u001b[1;34m\u001b[0m\n\u001b[1;32m----> 1\u001b[1;33m \u001b[0msns\u001b[0m\u001b[1;33m.\u001b[0m\u001b[0mboxplot\u001b[0m\u001b[1;33m(\u001b[0m \u001b[0mnewdf\u001b[0m \u001b[1;33m)\u001b[0m\u001b[1;33m\u001b[0m\u001b[1;33m\u001b[0m\u001b[0m\n\u001b[0m",
      "\u001b[1;32m~\\AppData\\Local\\Continuum\\anaconda3\\lib\\site-packages\\seaborn\\categorical.py\u001b[0m in \u001b[0;36mboxplot\u001b[1;34m(x, y, hue, data, order, hue_order, orient, color, palette, saturation, width, dodge, fliersize, linewidth, whis, notch, ax, **kwargs)\u001b[0m\n\u001b[0;32m   2235\u001b[0m     \u001b[0mkwargs\u001b[0m\u001b[1;33m.\u001b[0m\u001b[0mupdate\u001b[0m\u001b[1;33m(\u001b[0m\u001b[0mdict\u001b[0m\u001b[1;33m(\u001b[0m\u001b[0mwhis\u001b[0m\u001b[1;33m=\u001b[0m\u001b[0mwhis\u001b[0m\u001b[1;33m,\u001b[0m \u001b[0mnotch\u001b[0m\u001b[1;33m=\u001b[0m\u001b[0mnotch\u001b[0m\u001b[1;33m)\u001b[0m\u001b[1;33m)\u001b[0m\u001b[1;33m\u001b[0m\u001b[1;33m\u001b[0m\u001b[0m\n\u001b[0;32m   2236\u001b[0m \u001b[1;33m\u001b[0m\u001b[0m\n\u001b[1;32m-> 2237\u001b[1;33m     \u001b[0mplotter\u001b[0m\u001b[1;33m.\u001b[0m\u001b[0mplot\u001b[0m\u001b[1;33m(\u001b[0m\u001b[0max\u001b[0m\u001b[1;33m,\u001b[0m \u001b[0mkwargs\u001b[0m\u001b[1;33m)\u001b[0m\u001b[1;33m\u001b[0m\u001b[1;33m\u001b[0m\u001b[0m\n\u001b[0m\u001b[0;32m   2238\u001b[0m     \u001b[1;32mreturn\u001b[0m \u001b[0max\u001b[0m\u001b[1;33m\u001b[0m\u001b[1;33m\u001b[0m\u001b[0m\n\u001b[0;32m   2239\u001b[0m \u001b[1;33m\u001b[0m\u001b[0m\n",
      "\u001b[1;32m~\\AppData\\Local\\Continuum\\anaconda3\\lib\\site-packages\\seaborn\\categorical.py\u001b[0m in \u001b[0;36mplot\u001b[1;34m(self, ax, boxplot_kws)\u001b[0m\n\u001b[0;32m    547\u001b[0m     \u001b[1;32mdef\u001b[0m \u001b[0mplot\u001b[0m\u001b[1;33m(\u001b[0m\u001b[0mself\u001b[0m\u001b[1;33m,\u001b[0m \u001b[0max\u001b[0m\u001b[1;33m,\u001b[0m \u001b[0mboxplot_kws\u001b[0m\u001b[1;33m)\u001b[0m\u001b[1;33m:\u001b[0m\u001b[1;33m\u001b[0m\u001b[1;33m\u001b[0m\u001b[0m\n\u001b[0;32m    548\u001b[0m         \u001b[1;34m\"\"\"Make the plot.\"\"\"\u001b[0m\u001b[1;33m\u001b[0m\u001b[1;33m\u001b[0m\u001b[0m\n\u001b[1;32m--> 549\u001b[1;33m         \u001b[0mself\u001b[0m\u001b[1;33m.\u001b[0m\u001b[0mdraw_boxplot\u001b[0m\u001b[1;33m(\u001b[0m\u001b[0max\u001b[0m\u001b[1;33m,\u001b[0m \u001b[0mboxplot_kws\u001b[0m\u001b[1;33m)\u001b[0m\u001b[1;33m\u001b[0m\u001b[1;33m\u001b[0m\u001b[0m\n\u001b[0m\u001b[0;32m    550\u001b[0m         \u001b[0mself\u001b[0m\u001b[1;33m.\u001b[0m\u001b[0mannotate_axes\u001b[0m\u001b[1;33m(\u001b[0m\u001b[0max\u001b[0m\u001b[1;33m)\u001b[0m\u001b[1;33m\u001b[0m\u001b[1;33m\u001b[0m\u001b[0m\n\u001b[0;32m    551\u001b[0m         \u001b[1;32mif\u001b[0m \u001b[0mself\u001b[0m\u001b[1;33m.\u001b[0m\u001b[0morient\u001b[0m \u001b[1;33m==\u001b[0m \u001b[1;34m\"h\"\u001b[0m\u001b[1;33m:\u001b[0m\u001b[1;33m\u001b[0m\u001b[1;33m\u001b[0m\u001b[0m\n",
      "\u001b[1;32m~\\AppData\\Local\\Continuum\\anaconda3\\lib\\site-packages\\seaborn\\categorical.py\u001b[0m in \u001b[0;36mdraw_boxplot\u001b[1;34m(self, ax, kws)\u001b[0m\n\u001b[0;32m    484\u001b[0m                                          \u001b[0mpositions\u001b[0m\u001b[1;33m=\u001b[0m\u001b[1;33m[\u001b[0m\u001b[0mi\u001b[0m\u001b[1;33m]\u001b[0m\u001b[1;33m,\u001b[0m\u001b[1;33m\u001b[0m\u001b[1;33m\u001b[0m\u001b[0m\n\u001b[0;32m    485\u001b[0m                                          \u001b[0mwidths\u001b[0m\u001b[1;33m=\u001b[0m\u001b[0mself\u001b[0m\u001b[1;33m.\u001b[0m\u001b[0mwidth\u001b[0m\u001b[1;33m,\u001b[0m\u001b[1;33m\u001b[0m\u001b[1;33m\u001b[0m\u001b[0m\n\u001b[1;32m--> 486\u001b[1;33m                                          **kws)\n\u001b[0m\u001b[0;32m    487\u001b[0m                 \u001b[0mcolor\u001b[0m \u001b[1;33m=\u001b[0m \u001b[0mself\u001b[0m\u001b[1;33m.\u001b[0m\u001b[0mcolors\u001b[0m\u001b[1;33m[\u001b[0m\u001b[0mi\u001b[0m\u001b[1;33m]\u001b[0m\u001b[1;33m\u001b[0m\u001b[1;33m\u001b[0m\u001b[0m\n\u001b[0;32m    488\u001b[0m                 \u001b[0mself\u001b[0m\u001b[1;33m.\u001b[0m\u001b[0mrestyle_boxplot\u001b[0m\u001b[1;33m(\u001b[0m\u001b[0martist_dict\u001b[0m\u001b[1;33m,\u001b[0m \u001b[0mcolor\u001b[0m\u001b[1;33m,\u001b[0m \u001b[0mprops\u001b[0m\u001b[1;33m)\u001b[0m\u001b[1;33m\u001b[0m\u001b[1;33m\u001b[0m\u001b[0m\n",
      "\u001b[1;32m~\\AppData\\Local\\Continuum\\anaconda3\\lib\\site-packages\\matplotlib\\cbook\\deprecation.py\u001b[0m in \u001b[0;36mwrapper\u001b[1;34m(*args, **kwargs)\u001b[0m\n\u001b[0;32m    305\u001b[0m                 f\"for the old name will be dropped %(removal)s.\")\n\u001b[0;32m    306\u001b[0m             \u001b[0mkwargs\u001b[0m\u001b[1;33m[\u001b[0m\u001b[0mnew\u001b[0m\u001b[1;33m]\u001b[0m \u001b[1;33m=\u001b[0m \u001b[0mkwargs\u001b[0m\u001b[1;33m.\u001b[0m\u001b[0mpop\u001b[0m\u001b[1;33m(\u001b[0m\u001b[0mold\u001b[0m\u001b[1;33m)\u001b[0m\u001b[1;33m\u001b[0m\u001b[1;33m\u001b[0m\u001b[0m\n\u001b[1;32m--> 307\u001b[1;33m         \u001b[1;32mreturn\u001b[0m \u001b[0mfunc\u001b[0m\u001b[1;33m(\u001b[0m\u001b[1;33m*\u001b[0m\u001b[0margs\u001b[0m\u001b[1;33m,\u001b[0m \u001b[1;33m**\u001b[0m\u001b[0mkwargs\u001b[0m\u001b[1;33m)\u001b[0m\u001b[1;33m\u001b[0m\u001b[1;33m\u001b[0m\u001b[0m\n\u001b[0m\u001b[0;32m    308\u001b[0m \u001b[1;33m\u001b[0m\u001b[0m\n\u001b[0;32m    309\u001b[0m     \u001b[1;31m# wrapper() must keep the same documented signature as func(): if we\u001b[0m\u001b[1;33m\u001b[0m\u001b[1;33m\u001b[0m\u001b[1;33m\u001b[0m\u001b[0m\n",
      "\u001b[1;32m~\\AppData\\Local\\Continuum\\anaconda3\\lib\\site-packages\\matplotlib\\__init__.py\u001b[0m in \u001b[0;36minner\u001b[1;34m(ax, data, *args, **kwargs)\u001b[0m\n\u001b[0;32m   1599\u001b[0m     \u001b[1;32mdef\u001b[0m \u001b[0minner\u001b[0m\u001b[1;33m(\u001b[0m\u001b[0max\u001b[0m\u001b[1;33m,\u001b[0m \u001b[1;33m*\u001b[0m\u001b[0margs\u001b[0m\u001b[1;33m,\u001b[0m \u001b[0mdata\u001b[0m\u001b[1;33m=\u001b[0m\u001b[1;32mNone\u001b[0m\u001b[1;33m,\u001b[0m \u001b[1;33m**\u001b[0m\u001b[0mkwargs\u001b[0m\u001b[1;33m)\u001b[0m\u001b[1;33m:\u001b[0m\u001b[1;33m\u001b[0m\u001b[1;33m\u001b[0m\u001b[0m\n\u001b[0;32m   1600\u001b[0m         \u001b[1;32mif\u001b[0m \u001b[0mdata\u001b[0m \u001b[1;32mis\u001b[0m \u001b[1;32mNone\u001b[0m\u001b[1;33m:\u001b[0m\u001b[1;33m\u001b[0m\u001b[1;33m\u001b[0m\u001b[0m\n\u001b[1;32m-> 1601\u001b[1;33m             \u001b[1;32mreturn\u001b[0m \u001b[0mfunc\u001b[0m\u001b[1;33m(\u001b[0m\u001b[0max\u001b[0m\u001b[1;33m,\u001b[0m \u001b[1;33m*\u001b[0m\u001b[0mmap\u001b[0m\u001b[1;33m(\u001b[0m\u001b[0msanitize_sequence\u001b[0m\u001b[1;33m,\u001b[0m \u001b[0margs\u001b[0m\u001b[1;33m)\u001b[0m\u001b[1;33m,\u001b[0m \u001b[1;33m**\u001b[0m\u001b[0mkwargs\u001b[0m\u001b[1;33m)\u001b[0m\u001b[1;33m\u001b[0m\u001b[1;33m\u001b[0m\u001b[0m\n\u001b[0m\u001b[0;32m   1602\u001b[0m \u001b[1;33m\u001b[0m\u001b[0m\n\u001b[0;32m   1603\u001b[0m         \u001b[0mbound\u001b[0m \u001b[1;33m=\u001b[0m \u001b[0mnew_sig\u001b[0m\u001b[1;33m.\u001b[0m\u001b[0mbind\u001b[0m\u001b[1;33m(\u001b[0m\u001b[0max\u001b[0m\u001b[1;33m,\u001b[0m \u001b[1;33m*\u001b[0m\u001b[0margs\u001b[0m\u001b[1;33m,\u001b[0m \u001b[1;33m**\u001b[0m\u001b[0mkwargs\u001b[0m\u001b[1;33m)\u001b[0m\u001b[1;33m\u001b[0m\u001b[1;33m\u001b[0m\u001b[0m\n",
      "\u001b[1;32m~\\AppData\\Local\\Continuum\\anaconda3\\lib\\site-packages\\matplotlib\\axes\\_axes.py\u001b[0m in \u001b[0;36mboxplot\u001b[1;34m(self, x, notch, sym, vert, whis, positions, widths, patch_artist, bootstrap, usermedians, conf_intervals, meanline, showmeans, showcaps, showbox, showfliers, boxprops, labels, flierprops, medianprops, meanprops, capprops, whiskerprops, manage_ticks, autorange, zorder)\u001b[0m\n\u001b[0;32m   3668\u001b[0m \u001b[1;33m\u001b[0m\u001b[0m\n\u001b[0;32m   3669\u001b[0m         bxpstats = cbook.boxplot_stats(x, whis=whis, bootstrap=bootstrap,\n\u001b[1;32m-> 3670\u001b[1;33m                                        labels=labels, autorange=autorange)\n\u001b[0m\u001b[0;32m   3671\u001b[0m         \u001b[1;32mif\u001b[0m \u001b[0mnotch\u001b[0m \u001b[1;32mis\u001b[0m \u001b[1;32mNone\u001b[0m\u001b[1;33m:\u001b[0m\u001b[1;33m\u001b[0m\u001b[1;33m\u001b[0m\u001b[0m\n\u001b[0;32m   3672\u001b[0m             \u001b[0mnotch\u001b[0m \u001b[1;33m=\u001b[0m \u001b[0mrcParams\u001b[0m\u001b[1;33m[\u001b[0m\u001b[1;34m'boxplot.notch'\u001b[0m\u001b[1;33m]\u001b[0m\u001b[1;33m\u001b[0m\u001b[1;33m\u001b[0m\u001b[0m\n",
      "\u001b[1;32m~\\AppData\\Local\\Continuum\\anaconda3\\lib\\site-packages\\matplotlib\\cbook\\__init__.py\u001b[0m in \u001b[0;36mboxplot_stats\u001b[1;34m(X, whis, bootstrap, labels, autorange)\u001b[0m\n\u001b[0;32m   1283\u001b[0m \u001b[1;33m\u001b[0m\u001b[0m\n\u001b[0;32m   1284\u001b[0m         \u001b[1;31m# arithmetic mean\u001b[0m\u001b[1;33m\u001b[0m\u001b[1;33m\u001b[0m\u001b[1;33m\u001b[0m\u001b[0m\n\u001b[1;32m-> 1285\u001b[1;33m         \u001b[0mstats\u001b[0m\u001b[1;33m[\u001b[0m\u001b[1;34m'mean'\u001b[0m\u001b[1;33m]\u001b[0m \u001b[1;33m=\u001b[0m \u001b[0mnp\u001b[0m\u001b[1;33m.\u001b[0m\u001b[0mmean\u001b[0m\u001b[1;33m(\u001b[0m\u001b[0mx\u001b[0m\u001b[1;33m)\u001b[0m\u001b[1;33m\u001b[0m\u001b[1;33m\u001b[0m\u001b[0m\n\u001b[0m\u001b[0;32m   1286\u001b[0m \u001b[1;33m\u001b[0m\u001b[0m\n\u001b[0;32m   1287\u001b[0m         \u001b[1;31m# medians and quartiles\u001b[0m\u001b[1;33m\u001b[0m\u001b[1;33m\u001b[0m\u001b[1;33m\u001b[0m\u001b[0m\n",
      "\u001b[1;32m~\\AppData\\Local\\Continuum\\anaconda3\\lib\\site-packages\\numpy\\core\\fromnumeric.py\u001b[0m in \u001b[0;36mmean\u001b[1;34m(a, axis, dtype, out, keepdims)\u001b[0m\n\u001b[0;32m   3116\u001b[0m \u001b[1;33m\u001b[0m\u001b[0m\n\u001b[0;32m   3117\u001b[0m     return _methods._mean(a, axis=axis, dtype=dtype,\n\u001b[1;32m-> 3118\u001b[1;33m                           out=out, **kwargs)\n\u001b[0m\u001b[0;32m   3119\u001b[0m \u001b[1;33m\u001b[0m\u001b[0m\n\u001b[0;32m   3120\u001b[0m \u001b[1;33m\u001b[0m\u001b[0m\n",
      "\u001b[1;32m~\\AppData\\Local\\Continuum\\anaconda3\\lib\\site-packages\\numpy\\core\\_methods.py\u001b[0m in \u001b[0;36m_mean\u001b[1;34m(a, axis, dtype, out, keepdims)\u001b[0m\n\u001b[0;32m     85\u001b[0m             \u001b[0mret\u001b[0m \u001b[1;33m=\u001b[0m \u001b[0mret\u001b[0m\u001b[1;33m.\u001b[0m\u001b[0mdtype\u001b[0m\u001b[1;33m.\u001b[0m\u001b[0mtype\u001b[0m\u001b[1;33m(\u001b[0m\u001b[0mret\u001b[0m \u001b[1;33m/\u001b[0m \u001b[0mrcount\u001b[0m\u001b[1;33m)\u001b[0m\u001b[1;33m\u001b[0m\u001b[1;33m\u001b[0m\u001b[0m\n\u001b[0;32m     86\u001b[0m     \u001b[1;32melse\u001b[0m\u001b[1;33m:\u001b[0m\u001b[1;33m\u001b[0m\u001b[1;33m\u001b[0m\u001b[0m\n\u001b[1;32m---> 87\u001b[1;33m         \u001b[0mret\u001b[0m \u001b[1;33m=\u001b[0m \u001b[0mret\u001b[0m \u001b[1;33m/\u001b[0m \u001b[0mrcount\u001b[0m\u001b[1;33m\u001b[0m\u001b[1;33m\u001b[0m\u001b[0m\n\u001b[0m\u001b[0;32m     88\u001b[0m \u001b[1;33m\u001b[0m\u001b[0m\n\u001b[0;32m     89\u001b[0m     \u001b[1;32mreturn\u001b[0m \u001b[0mret\u001b[0m\u001b[1;33m\u001b[0m\u001b[1;33m\u001b[0m\u001b[0m\n",
      "\u001b[1;31mTypeError\u001b[0m: unsupported operand type(s) for /: 'dict' and 'int'"
     ]
    },
    {
     "data": {
      "image/png": "[encoded data removed]",
      "text/plain": [
       "<Figure size 432x288 with 1 Axes>"
      ]
     },
     "metadata": {},
     "output_type": "display_data"
    }
   ],
   "source": [
    "sns.boxplot( newdf )"
   ]
  },
  {
   "cell_type": "code",
   "execution_count": 51,
   "metadata": {},
   "outputs": [
    {
     "data": {
      "text/plain": [
       "<matplotlib.axes._subplots.AxesSubplot at 0x1ce3ea85d88>"
      ]
     },
     "execution_count": 51,
     "metadata": {},
     "output_type": "execute_result"
    },
    {
     "data": {
      "image/png": "[encoded data removed]",
      "text/plain": [
       "<Figure size 432x288 with 1 Axes>"
      ]
     },
     "metadata": {},
     "output_type": "display_data"
    }
   ],
   "source": [
    "sns.barplot(x='Pregnancies',y='Outcome',data=df,hue=\"Pregnancies\")"
   ]
  },
  {
   "cell_type": "code",
   "execution_count": 54,
   "metadata": {},
   "outputs": [
    {
     "data": {
      "text/plain": [
       "<matplotlib.axes._subplots.AxesSubplot at 0x1ce3f8c2548>"
      ]
     },
     "execution_count": 54,
     "metadata": {},
     "output_type": "execute_result"
    },
    {
     "data": {
      "image/png": "[encoded data removed]",
      "text/plain": [
       "<Figure size 1440x720 with 1 Axes>"
      ]
     },
     "metadata": {},
     "output_type": "display_data"
    }
   ],
   "source": [
    "data_new = df[df['Pregnancies']!=0]\n",
    "plt.figure(figsize=(20,10))\n",
    "sns.boxplot(x='Pregnancies',y='Outcome',data=data_new)"
   ]
  },
  {
   "cell_type": "code",
   "execution_count": 30,
   "metadata": {},
   "outputs": [
    {
     "data": {
      "text/plain": [
       "<matplotlib.axes._subplots.AxesSubplot at 0x1ce3c3239c8>"
      ]
     },
     "execution_count": 30,
     "metadata": {},
     "output_type": "execute_result"
    },
    {
     "data": {
      "image/png": "[encoded data removed]",
      "text/plain": [
       "<Figure size 432x288 with 1 Axes>"
      ]
     },
     "metadata": {},
     "output_type": "display_data"
    }
   ],
   "source": [
    "sns.set_style(\"whitegrid\") \n",
    "  \n",
    "sns.boxplot(x = 'Pregnancies', data = df) "
   ]
  }
 ],
 "metadata": {
  "kernelspec": {
   "display_name": "Python 3",
   "language": "python",
   "name": "python3"
  },
  "language_info": {
   "codemirror_mode": {
    "name": "ipython",
    "version": 3
   },
   "file_extension": ".py",
   "mimetype": "text/x-python",
   "name": "python",
   "nbconvert_exporter": "python",
   "pygments_lexer": "ipython3",
   "version": "3.7.4"
  }
 },
 "nbformat": 4,
 "nbformat_minor": 2
}
